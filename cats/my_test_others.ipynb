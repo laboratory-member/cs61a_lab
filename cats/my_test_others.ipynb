{
 "cells": [
  {
   "cell_type": "code",
   "execution_count": 1,
   "id": "20acbd44",
   "metadata": {},
   "outputs": [],
   "source": [
    "from utils import (\n",
    "    lower,\n",
    "    split,\n",
    "    remove_punctuation,\n",
    "    lines_from_file,\n",
    "    count,\n",
    "    deep_convert_to_tuple,\n",
    ")\n",
    "from ucb import main, interact, trace\n",
    "from datetime import datetime\n",
    "import random"
   ]
  },
  {
   "cell_type": "code",
   "execution_count": 6,
   "id": "35e4e907",
   "metadata": {},
   "outputs": [
    {
     "data": {
      "text/plain": [
       "'I love tehe sfor!'"
      ]
     },
     "execution_count": 6,
     "metadata": {},
     "output_type": "execute_result"
    }
   ],
   "source": [
    "c = 'I love tehe sfor!'\n",
    "t = c\n",
    "t"
   ]
  },
  {
   "cell_type": "code",
   "execution_count": 7,
   "id": "f48ce951",
   "metadata": {},
   "outputs": [
    {
     "data": {
      "text/plain": [
       "False"
      ]
     },
     "execution_count": 7,
     "metadata": {},
     "output_type": "execute_result"
    }
   ],
   "source": [
    "def about(keywords):\n",
    "    \"\"\"Return a function that takes in a paragraph and returns whether\n",
    "    that paragraph contains one of the words in keywords.\n",
    "\n",
    "    Arguments:\n",
    "        keywords: a list of keywords\n",
    "\n",
    "    >>> about_dogs = about(['dog', 'dogs', 'pup', 'puppy'])\n",
    "    >>> pick(['Cute Dog!', 'That is a cat.', 'Nice pup!'], about_dogs, 0)\n",
    "    'Cute Dog!'\n",
    "    >>> pick(['Cute Dog!', 'That is a cat.', 'Nice pup.'], about_dogs, 1)\n",
    "    'Nice pup.'\n",
    "    \"\"\"\n",
    "    assert all([lower(x) == x for x in keywords]), \"keywords should be lowercase.\"\n",
    "\n",
    "    # BEGIN PROBLEM 2\n",
    "    \"*** YOUR CODE HERE ***\"\n",
    "    # END PROBLEM 2\n",
    "    def check_the_para(para):\n",
    "        t = split(lower(remove_punctuation(para)))\n",
    "        for item in t:\n",
    "            for item_1 in keywords:\n",
    "                if item == item_1:\n",
    "                    return True\n",
    "        return False\n",
    "    return check_the_para\n",
    "\n",
    "\n",
    "\n",
    "\n",
    "dogs = about(['dogs', 'hounds'])\n",
    "dogs('A paragraph about cats.')"
   ]
  },
  {
   "cell_type": "code",
   "execution_count": 22,
   "id": "8f44f5f7",
   "metadata": {},
   "outputs": [
    {
     "data": {
      "text/plain": [
       "2"
      ]
     },
     "execution_count": 22,
     "metadata": {},
     "output_type": "execute_result"
    }
   ],
   "source": [
    "def minimum_mewtations(typed, source, limit):\n",
    "    \"\"\"A diff function for autocorrect that computes the edit distance from TYPED to SOURCE.\n",
    "    This function takes in a string TYPED, a string SOURCE, and a number LIMIT.\n",
    "\n",
    "    Arguments:\n",
    "        typed: a starting word\n",
    "        source: a string representing a desired goal word\n",
    "        limit: a number representing an upper bound on the number of edits\n",
    "\n",
    "    >>> big_limit = 10\n",
    "    >>> minimum_mewtations(\"cats\", \"scat\", big_limit)       # cats -> scats -> scat\n",
    "    2\n",
    "    >>> minimum_mewtations(\"purng\", \"purring\", big_limit)   # purng -> purrng -> purring\n",
    "    2\n",
    "    >>> minimum_mewtations(\"ckiteus\", \"kittens\", big_limit) # ckiteus -> kiteus -> kitteus -> kittens\n",
    "    3\n",
    "    \"\"\"\n",
    "    def count_the_diff(a,b,num,limit):\n",
    "        if num>limit:\n",
    "            return num\n",
    "        if len(a)==0 or len(b)==0:\n",
    "            return num+abs(len(a)-len(b))\n",
    "        if a[0]==b[0]:\n",
    "            return count_the_diff(a[1:],b[1:],num,limit)\n",
    "        else:\n",
    "            return min(count_the_diff(a[1:],b,1+num,limit), count_the_diff(b[0]+a, b ,1+num,limit), count_the_diff(b[0]+a[1:],b,1+num, limit))\n",
    "        \n",
    "    return count_the_diff(typed,source,0,limit)\n",
    "\n",
    "\n",
    "\n",
    "\n",
    "minimum_mewtations(\"purng\", \"purring\", 6) "
   ]
  }
 ],
 "metadata": {
  "kernelspec": {
   "display_name": "base",
   "language": "python",
   "name": "python3"
  },
  "language_info": {
   "codemirror_mode": {
    "name": "ipython",
    "version": 3
   },
   "file_extension": ".py",
   "mimetype": "text/x-python",
   "name": "python",
   "nbconvert_exporter": "python",
   "pygments_lexer": "ipython3",
   "version": "3.12.7"
  }
 },
 "nbformat": 4,
 "nbformat_minor": 5
}
